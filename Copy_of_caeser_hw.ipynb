{
  "nbformat": 4,
  "nbformat_minor": 0,
  "metadata": {
    "colab": {
      "provenance": [],
      "authorship_tag": "ABX9TyM9LFo6LVz3zfTsB0hNg81q",
      "include_colab_link": true
    },
    "kernelspec": {
      "name": "python3",
      "display_name": "Python 3"
    },
    "language_info": {
      "name": "python"
    }
  },
  "cells": [
    {
      "cell_type": "markdown",
      "metadata": {
        "id": "view-in-github",
        "colab_type": "text"
      },
      "source": [
        "<a href=\"https://colab.research.google.com/github/sushanthum616/program.sus/blob/main/Copy_of_caeser_hw.ipynb\" target=\"_parent\"><img src=\"https://colab.research.google.com/assets/colab-badge.svg\" alt=\"Open In Colab\"/></a>"
      ]
    },
    {
      "cell_type": "code",
      "execution_count": null,
      "metadata": {
        "id": "Gs_uNcu6pDyo"
      },
      "outputs": [],
      "source": [
        "def encode(word, key):\n",
        "    alphabets = 'abcdefghijklmnopqrstuvwxyz';\n",
        "    alphabetsList = list(alphabets);\n",
        "    encodedWord = '';\n",
        "    for i in range(len(word)):\n",
        "        upper = word[i].isupper()\n",
        "        if upper:\n",
        "             alpha = alphabetsList.index(word[i].lower())\n",
        "             encodedWord = encodedWord + alphabetsList[(alpha+key)%len(alphabetsList)].upper()\n",
        "        else:\n",
        "            alpha = alphabetsList.index(word[i].lower())\n",
        "            encodedWord = encodedWord + alphabetsList[(alpha+key)%len(alphabetsList)]\n",
        "    return encodedWord\n",
        "\n"
      ]
    },
    {
      "cell_type": "code",
      "source": [
        "def addFunc(listNum):\n",
        "    num = 0\n",
        "    for i in range(len(listNum)):\n",
        "        num = num + listNum[i] * (pow(10,(len(listNum)-1-i)))\n",
        "    return num+1\n"
      ],
      "metadata": {
        "id": "9RFO0C8zXHEZ"
      },
      "execution_count": null,
      "outputs": []
    },
    {
      "cell_type": "code",
      "source": [
        "def sumBinary(num1, num2):\n",
        "    max_len = max(len(str(num1)), len(str(num2)))\n",
        "    num1 = ''.join(['0' for i in range(max_len-len(str(num1)))])+str(num1)\n",
        "    num2 = ''.join(['0' for i in range(max_len-len(str(num2)))])+str(num2)\n",
        "    carry = False\n",
        "    newNum = ''\n",
        "    for i in range(max_len):\n",
        "        sum = int(num1[len(num1)-i-1]) + int(num2[len(num2)-i-1])\n",
        "        sum = sum + 1 if carry else sum\n",
        "        newNum = ('1' if sum % 2 == 1 else '0') + newNum\n",
        "        carry = False if sum < 2 else True\n",
        "        \n",
        "    if carry:\n",
        "        newNum = '1' + newNum\n",
        "    return newNum  \n",
        "\n",
        "sumBinary(1011, 10)      "
      ],
      "metadata": {
        "id": "7lPs0-dAXLNh"
      },
      "execution_count": null,
      "outputs": []
    },
    {
      "cell_type": "code",
      "source": [
        "def amicable(num):\n",
        "    num += 1\n",
        "    while num != 0:\n",
        "        m = sum_divisors(num)\n",
        "        if m != num and sum_divisors(m) == num:\n",
        "            return num\n",
        "        num = num + 1\n",
        "\n",
        "def sum_divisors(num):\n",
        "    divisor = 1\n",
        "    total = 0\n",
        "    while divisor < num:\n",
        "        if num % divisor == 0:\n",
        "            total = total + divisor\n",
        "        divisor = divisor + 1\n",
        "    return total\n",
        "    \n",
        "print(amicable(5))\n"
      ],
      "metadata": {
        "id": "TPm12XwAXP9Y"
      },
      "execution_count": null,
      "outputs": []
    }
  ]
}