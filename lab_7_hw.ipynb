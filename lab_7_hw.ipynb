{
  "nbformat": 4,
  "nbformat_minor": 0,
  "metadata": {
    "colab": {
      "provenance": [],
      "collapsed_sections": [],
      "authorship_tag": "ABX9TyPW1uqwFwb/RqpjDpa118K5",
      "include_colab_link": true
    },
    "kernelspec": {
      "name": "python3",
      "display_name": "Python 3"
    },
    "language_info": {
      "name": "python"
    }
  },
  "cells": [
    {
      "cell_type": "markdown",
      "metadata": {
        "id": "view-in-github",
        "colab_type": "text"
      },
      "source": [
        "<a href=\"https://colab.research.google.com/github/sushanthum616/program.sus/blob/main/lab_7_hw.ipynb\" target=\"_parent\"><img src=\"https://colab.research.google.com/assets/colab-badge.svg\" alt=\"Open In Colab\"/></a>"
      ]
    },
    {
      "cell_type": "code",
      "execution_count": 12,
      "metadata": {
        "colab": {
          "base_uri": "https://localhost:8080/"
        },
        "id": "6xX57e_ZIfNa",
        "outputId": "03c97423-8603-4c65-aba6-54e0f5655cc0"
      },
      "outputs": [
        {
          "output_type": "stream",
          "name": "stdout",
          "text": [
            "darts thrown: 1000000\n",
            " value of pie is 3.143148\n"
          ]
        }
      ],
      "source": [
        "#ans no. 1\n",
        "import random \n",
        "import math\n",
        "\n",
        "n = int(input(\"darts thrown: \" ))\n",
        "count = 1\n",
        "circle = 0\n",
        "square = 0\n",
        "while count <= n:\n",
        "  x = 2 * random.random()\n",
        "  y = 2 * random.random()\n",
        "  if math.sqrt((x-1)**2 + (y-1)**2) <=1:\n",
        "    circle += 1\n",
        "    square += 1\n",
        "  else:\n",
        "    square += 1\n",
        "  count += 1\n",
        "\n",
        "print(' value of pie is', 4*(1 * circle/square))"
      ]
    },
    {
      "cell_type": "code",
      "source": [
        "#ans no 2\n",
        "import random\n",
        "def coin_flipping(tosses):\n",
        "\n",
        "    heads = 0\n",
        "    tails = 0\n",
        "\n",
        "    for toss in range(tosses):\n",
        "        if random.randint(1, 2) == 1:\n",
        "          print('Heads')\n",
        "          heads+=1\n",
        "        else:\n",
        "          print('Tails')\n",
        "          tails+=1\n",
        "\n",
        "    return heads, tails\n",
        "\n",
        "def main():\n",
        "    \n",
        "    tosses = int(input(\"enter number of coin flipped: \")) \n",
        "\n",
        "    heads, tails = coin_flipping(tosses)\n",
        "    n = int(heads - tails)       #if the answwer is in negative, it indicate that i took step backward\n",
        "\n",
        "    print(\"the Total number of walk forward is:\", heads)\n",
        "    print(\"theTotal number of walk backward is:\", tails)\n",
        "    print(\"the average number of step from the starting point is \", n)\n",
        "\n",
        "\n",
        "main()"
      ],
      "metadata": {
        "id": "fGkUTaIldQdX"
      },
      "execution_count": null,
      "outputs": []
    }
  ]
}