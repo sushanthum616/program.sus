{
  "nbformat": 4,
  "nbformat_minor": 0,
  "metadata": {
    "colab": {
      "provenance": [],
      "collapsed_sections": [],
      "authorship_tag": "ABX9TyMHXPATmC6cnEOfwF4QfKP7",
      "include_colab_link": true
    },
    "kernelspec": {
      "name": "python3",
      "display_name": "Python 3"
    },
    "language_info": {
      "name": "python"
    }
  },
  "cells": [
    {
      "cell_type": "markdown",
      "metadata": {
        "id": "view-in-github",
        "colab_type": "text"
      },
      "source": [
        "<a href=\"https://colab.research.google.com/github/sushanthum616/program.sus/blob/main/Copy_of_Sushant.ipynb\" target=\"_parent\"><img src=\"https://colab.research.google.com/assets/colab-badge.svg\" alt=\"Open In Colab\"/></a>"
      ]
    },
    {
      "cell_type": "code",
      "execution_count": null,
      "metadata": {
        "id": "NPHaYt7P84Qc"
      },
      "outputs": [],
      "source": [
        "#ans no. 1\n",
        "def check_even_odd(num):\n",
        "  if(num % 2 == 0):\n",
        "      print(num,\"is even\")\n",
        "  else:\n",
        "      print(num,\"is odd\")\n",
        "check_even_odd(10)\n",
        "check_even_odd(11)"
      ]
    },
    {
      "cell_type": "code",
      "source": [
        "#ans no.2\n",
        "def num(n):\n",
        "  for i in range(n-1,0,-1):\n",
        "    if i % 2 == 1:\n",
        "      print(i)\n",
        "    \n",
        "num(13)"
      ],
      "metadata": {
        "id": "DF9XhLL9Kj1w"
      },
      "execution_count": null,
      "outputs": []
    },
    {
      "cell_type": "code",
      "source": [
        "#ans no.3\n",
        "def sum_odd(n):\n",
        "  add = 0\n",
        "  for i in range(1,n+1):\n",
        "    if i % 2 == 1:\n",
        "      add += i\n",
        "  print(add)\n",
        "sum_odd(7)\n",
        "sum_odd(6)"
      ],
      "metadata": {
        "id": "P-2snjKWLjU0"
      },
      "execution_count": null,
      "outputs": []
    },
    {
      "cell_type": "code",
      "source": [
        "#ans no.4\n",
        "def number(n):\n",
        "  add = 0\n",
        "  for i in range(1,n+1):\n",
        "    if i % 2 == 0: \n",
        "     add += i\n",
        "\n",
        "  print(add)\n",
        "number(6)"
      ],
      "metadata": {
        "id": "qR1rZOR5Me3J"
      },
      "execution_count": null,
      "outputs": []
    },
    {
      "cell_type": "code",
      "source": [
        "#ans no.5\n",
        "def only_positivenumber(n):\n",
        "  if n > 0 and n % 2 == 0:\n",
        "    for i in range(n,-1,-2):\n",
        "      print(i,end=\" \")\n",
        "  if n > 0 and n % 2 ==1:\n",
        "   for i in range(n,int(n/2),-2):\n",
        "    print(i)\n",
        "only_positivenumber(23)\n",
        "only_positivenumber(16)"
      ],
      "metadata": {
        "id": "BZp8O2kgNc5x"
      },
      "execution_count": null,
      "outputs": []
    },
    {
      "cell_type": "code",
      "source": [
        "#ans no.6\n",
        "def foo(a,b,c):\n",
        "  if(a+b<b+c):\n",
        "    return(a*a+b*b)\n",
        "  elif(a+b<b+c):\n",
        "    return(a*a+c*c)\n",
        "  elif(b+c<a+c):\n",
        "    return(b*b+c*c)\n",
        "foo(1,2,3)"
      ],
      "metadata": {
        "id": "NaIZTrREaQ9o"
      },
      "execution_count": null,
      "outputs": []
    }
  ]
}