{
  "nbformat": 4,
  "nbformat_minor": 0,
  "metadata": {
    "colab": {
      "provenance": [],
      "authorship_tag": "ABX9TyNYkcZBhrmnVDw3VoyK32nt",
      "include_colab_link": true
    },
    "kernelspec": {
      "name": "python3",
      "display_name": "Python 3"
    },
    "language_info": {
      "name": "python"
    }
  },
  "cells": [
    {
      "cell_type": "markdown",
      "metadata": {
        "id": "view-in-github",
        "colab_type": "text"
      },
      "source": [
        "<a href=\"https://colab.research.google.com/github/sushanthum616/program.sus/blob/main/Untitled5.ipynb\" target=\"_parent\"><img src=\"https://colab.research.google.com/assets/colab-badge.svg\" alt=\"Open In Colab\"/></a>"
      ]
    },
    {
      "cell_type": "code",
      "execution_count": 12,
      "metadata": {
        "colab": {
          "base_uri": "https://localhost:8080/"
        },
        "id": "mfPmbiN7Ymwr",
        "outputId": "f0870001-fcd5-4a44-b806-63d5404ea3d4"
      },
      "outputs": [
        {
          "output_type": "stream",
          "name": "stdout",
          "text": [
            "New list:\n",
            "[1, 2, 3, 'python', 4, 5, 'testing', 'ok']\n"
          ]
        }
      ],
      "source": [
        "#lecture quiz\n",
        "def foo(n_list):\n",
        "    result_list = []\n",
        "    if not lst: return result_list\n",
        "    stack = [list(lst)]\n",
        "    while stack:\n",
        "        c_num = stack.pop()\n",
        "        next = c_num.pop()\n",
        "        if c_num: stack.append(c_num)\n",
        "        if isinstance(next, list):\n",
        "            if next: stack.append(list(next))\n",
        "        else: result_list.append(next)\n",
        "    result_list.reverse()\n",
        "    return result_list \n",
        "lst = [[1,2,3],\"python\", [4,5], [\"testing\", \"ok\"]]\n",
        "\n",
        "print(\"New list:\")\n",
        "print(foo(lst))"
      ]
    },
    {
      "cell_type": "code",
      "source": [
        "# lab quiz\n",
        "def reverse(lst):\n",
        "    result = [x[::-1] for x in lst]\n",
        "    return result\n",
        "\n",
        "foo = [\"python\", \"123\", \"789\"]\n",
        "print(\"\\nReverse strings of the original list is:\")\n",
        "print(reverse(foo))\n"
      ],
      "metadata": {
        "colab": {
          "base_uri": "https://localhost:8080/"
        },
        "id": "p61FA7EYbICx",
        "outputId": "0b10b125-db79-476c-cb27-f1464f8ad3d0"
      },
      "execution_count": 9,
      "outputs": [
        {
          "output_type": "stream",
          "name": "stdout",
          "text": [
            "\n",
            "Reverse strings of the original list is:\n",
            "['nohtyp', '321', '987']\n"
          ]
        }
      ]
    }
  ]
}